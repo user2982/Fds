{
 "cells": [
  {
   "cell_type": "code",
   "execution_count": 1,
   "metadata": {},
   "outputs": [],
   "source": [
    "import numpy as np"
   ]
  },
  {
   "cell_type": "code",
   "execution_count": null,
   "metadata": {},
   "outputs": [
    {
     "name": "stdout",
     "output_type": "stream",
     "text": [
      "Output is: \n"
     ]
    }
   ],
   "source": [
    "a = np.array([1,2,3,4,5,6,7,8,9,10])"
   ]
  },
  {
   "cell_type": "code",
   "execution_count": 9,
   "metadata": {},
   "outputs": [
    {
     "name": "stdout",
     "output_type": "stream",
     "text": [
      "Output is: \n",
      "One Dimensional Array is : [ 1  2  3  4  5  6  7  8  9 10]\n"
     ]
    }
   ],
   "source": [
    "print(\"Output is: \")\n",
    "print(\"One Dimensional Array is :\",a)"
   ]
  },
  {
   "cell_type": "code",
   "execution_count": 12,
   "metadata": {},
   "outputs": [
    {
     "name": "stdout",
     "output_type": "stream",
     "text": [
      "Two Dimensional Array is \n",
      ": [[10 20]\n",
      " [30 40]]\n"
     ]
    }
   ],
   "source": [
    "b = np.array([[10,20],[30,40]])\n",
    "print(\"Two Dimensional Array is \\n:\",b)"
   ]
  },
  {
   "cell_type": "code",
   "execution_count": 13,
   "metadata": {},
   "outputs": [
    {
     "name": "stdout",
     "output_type": "stream",
     "text": [
      "Three Dimensional Array is: \n",
      " [[10 20 30]\n",
      " [40 50 60]\n",
      " [70 80 90]]\n"
     ]
    }
   ],
   "source": [
    "c = np.array([[10,20,30],[40,50,60],[70,80,90]])\n",
    "print(\"Three Dimensional Array is: \\n\",c)"
   ]
  },
  {
   "cell_type": "code",
   "execution_count": 16,
   "metadata": {},
   "outputs": [
    {
     "name": "stdout",
     "output_type": "stream",
     "text": [
      "Array indexing and numpy attributes\n",
      "[56 23 55 64]\n",
      "x2 ndim: 2\n",
      "x2 shape: (3, 3)\n",
      "x2 size: 9\n"
     ]
    }
   ],
   "source": [
    "# array indexing and numpy attributes\n",
    "x1 = np.array([56,23,55,64])\n",
    "x2 = np.array([[1,2,3],[4,5,6],[7,8,9]])\n",
    "\n",
    "print(\"Array indexing and numpy attributes\")\n",
    "print(x1)\n",
    "print(\"x2 ndim:\",x2.ndim)\n",
    "print(\"x2 shape:\",x2.shape)\n",
    "print(\"x2 size:\",x2.size)"
   ]
  },
  {
   "cell_type": "code",
   "execution_count": 17,
   "metadata": {},
   "outputs": [
    {
     "name": "stdout",
     "output_type": "stream",
     "text": [
      "Accessing single elements\n",
      "55\n",
      "[[1 2 3]\n",
      " [4 5 6]\n",
      " [7 8 9]]\n",
      "[[ 1  2  3]\n",
      " [ 4  5 60]\n",
      " [ 7  8  9]]\n"
     ]
    }
   ],
   "source": [
    "# accessing single elements\n",
    "\n",
    "print(\"Accessing single elements\")\n",
    "print(x1[-2])\n",
    "print(x2)\n",
    "x2[1,2]=60\n",
    "print(x2)"
   ]
  },
  {
   "cell_type": "code",
   "execution_count": 20,
   "metadata": {},
   "outputs": [
    {
     "name": "stdout",
     "output_type": "stream",
     "text": [
      "Array slicing\n",
      "[5 6 7 8]\n",
      "[0 1 2 3 4]\n",
      "[1 4 7]\n",
      "[[ 1  2  3]\n",
      " [ 4  5 60]\n",
      " [ 7  8  9]]\n",
      "[[1 2]\n",
      " [4 5]]\n"
     ]
    }
   ],
   "source": [
    "# array slicing\n",
    "print(\"Array slicing\")\n",
    "x = np.arange(10)\n",
    "print(x[5:9])\n",
    "print(x[:5])\n",
    "print(x[1::3])\n",
    "print(x2)\n",
    "print(x2[0:2,0:2])"
   ]
  },
  {
   "cell_type": "code",
   "execution_count": 22,
   "metadata": {},
   "outputs": [
    {
     "name": "stdout",
     "output_type": "stream",
     "text": [
      "Concation of array\n",
      "[ 1  2  3  8 12 14]\n"
     ]
    }
   ],
   "source": [
    "# concatenation of array\n",
    "print(\"Concation of array\")\n",
    "p = np.array([1,2,3])\n",
    "q = np.array([8,12,14])\n",
    "print(np.concatenate([p,q]))"
   ]
  },
  {
   "cell_type": "code",
   "execution_count": 25,
   "metadata": {},
   "outputs": [
    {
     "name": "stdout",
     "output_type": "stream",
     "text": [
      "[0 1] [2 3 4 5 6 7 8 9]\n"
     ]
    }
   ],
   "source": [
    "# splitting of array\n",
    "y = [1,2,3,99,99,3,2,1]\n",
    "d,e = np.split(x,[2])\n",
    "print(d,e)"
   ]
  },
  {
   "cell_type": "code",
   "execution_count": 26,
   "metadata": {},
   "outputs": [
    {
     "name": "stdout",
     "output_type": "stream",
     "text": [
      "Functions:\n",
      "add\n",
      "add\n",
      "[3 4 5]\n",
      "Subtract\n",
      "[-1  0  1]\n",
      "negative\n",
      "[-1 -2 -3]\n",
      "Multiply\n",
      "[2 4 6]\n",
      "Divide\n",
      "[0.2 0.4 0.6]\n",
      "Floor divide\n",
      "[0 1 1]\n",
      "power\n",
      "[1 4 9]\n",
      "modulus\n",
      "[1 0 1]\n"
     ]
    }
   ],
   "source": [
    "# Functions\n",
    "print(\"Functions:\")\n",
    "print(\"add\")\n",
    "t = np.array([1,2,3])\n",
    "print(\"add\")\n",
    "print(np.add(t,2))\n",
    "print(\"Subtract\")\n",
    "print(np.subtract(t,2))\n",
    "print(\"negative\")\n",
    "print(np.negative(t))\n",
    "print(\"Multiply\")\n",
    "print(np.multiply(t,2))\n",
    "print(\"Divide\")\n",
    "print(np.divide(t,5))\n",
    "print(\"Floor divide\")\n",
    "print(np.floor_divide(t,2))\n",
    "print(\"power\")\n",
    "print(np.power(t,2))\n",
    "print(\"modulus\")\n",
    "print(np.mod(t,2))"
   ]
  },
  {
   "cell_type": "code",
   "execution_count": 27,
   "metadata": {},
   "outputs": [
    {
     "name": "stdout",
     "output_type": "stream",
     "text": [
      "Absolute\n",
      "[2 1 0 1 2]\n"
     ]
    }
   ],
   "source": [
    "# absolute\n",
    "print(\"Absolute\")\n",
    "print(np.abs([-2,-1,0,1,2]))"
   ]
  },
  {
   "cell_type": "code",
   "execution_count": 28,
   "metadata": {},
   "outputs": [
    {
     "name": "stdout",
     "output_type": "stream",
     "text": [
      "trigonometric\n",
      "[0.         0.99999968 0.00159265]\n",
      "[ 1.00000000e+00  7.96326711e-04 -9.99998732e-01]\n",
      "[ 0.00000000e+00  1.25576559e+03 -1.59265494e-03]\n"
     ]
    }
   ],
   "source": [
    "# Trigonometric\n",
    "print(\"trigonometric\")\n",
    "theta = [0,1.57,3.14]\n",
    "print(np.sin(theta))\n",
    "print(np.cos(theta))\n",
    "print(np.tan(theta))"
   ]
  },
  {
   "cell_type": "code",
   "execution_count": 29,
   "metadata": {},
   "outputs": [
    {
     "name": "stdout",
     "output_type": "stream",
     "text": [
      "Exponent\n",
      "[1.00000000e+00 2.71828183e+00 7.38905610e+00 2.00855369e+01\n",
      " 5.45981500e+01 1.48413159e+02 4.03428793e+02 1.09663316e+03\n",
      " 2.98095799e+03 8.10308393e+03]\n",
      "[  1.   2.   4.   8.  16.  32.  64. 128. 256. 512.]\n",
      "[  0   1   8  27  64 125 216 343 512 729]\n"
     ]
    }
   ],
   "source": [
    "# Exponent\n",
    "print(\"Exponent\")\n",
    "print(np.exp(x))\n",
    "print(np.exp2(x))\n",
    "print(np.power(x,3))"
   ]
  },
  {
   "cell_type": "code",
   "execution_count": 32,
   "metadata": {},
   "outputs": [
    {
     "name": "stdout",
     "output_type": "stream",
     "text": [
      "Log\n",
      "2.302585092994046\n",
      "3.321928094887362\n",
      "0.0\n"
     ]
    }
   ],
   "source": [
    "print(\"Log\")\n",
    "print(np.log(10))\n",
    "print(np.log2(10))\n",
    "print(np.log10(1))"
   ]
  }
 ],
 "metadata": {
  "kernelspec": {
   "display_name": "Python 3",
   "language": "python",
   "name": "python3"
  },
  "language_info": {
   "codemirror_mode": {
    "name": "ipython",
    "version": 3
   },
   "file_extension": ".py",
   "mimetype": "text/x-python",
   "name": "python",
   "nbconvert_exporter": "python",
   "pygments_lexer": "ipython3",
   "version": "3.12.4"
  }
 },
 "nbformat": 4,
 "nbformat_minor": 2
}
