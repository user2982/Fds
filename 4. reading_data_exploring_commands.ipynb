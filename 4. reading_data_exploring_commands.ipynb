{
 "cells": [
  {
   "cell_type": "code",
   "execution_count": null,
   "metadata": {},
   "outputs": [],
   "source": [
    "import pandas as pd \n",
    "import matplotlib.pyplot as pl \n",
    "df=pd.read_csv(\"Iris_Data1.csv\")  \n",
    "print(df) \n",
    "print() \n",
    "print(\"Descriptive analysis on Iris Data: \") \n",
    "print(\"Info:\\n\") \n",
    "print(df.info) \n",
    "print(\"Describe:\\n\") \n",
    "print(df.describe) \n",
    "print(\"Head:\\n\") \n",
    "print(df.head) \n",
    "print(\"Species count:\\n\") \n",
    "print(df['CLASS'].value_counts()) \n",
    "print(\"IsNull:\\n\") \n",
    "print(df.isnull) \n",
    "print(\"Max:\\n\") \n",
    "print(df.max) \n",
    "print(\"Shape:\\n\") \n",
    "print(df.shape) \n",
    "print(\"Size:\\n\") \n",
    "print(df.size) \n",
    "#plotting graph  \n",
    "x = df['ID'].head(10) \n",
    "y = df[\"SL\"].head(10) \n",
    "print(pl.title(\"Bar Graph - ID vs Sepal Length\")) \n",
    "print(pl.plot(x,y,marker = \"*\",linestyle = \"dashed\")) \n",
    "pl.xlabel(\"ID\") \n",
    "pl.ylabel(\"Sepal length\") \n",
    "pl.show()"
   ]
  }
 ],
 "metadata": {
  "kernelspec": {
   "display_name": "Python 3",
   "language": "python",
   "name": "python3"
  },
  "language_info": {
   "codemirror_mode": {
    "name": "ipython",
    "version": 3
   },
   "file_extension": ".py",
   "mimetype": "text/x-python",
   "name": "python",
   "nbconvert_exporter": "python",
   "pygments_lexer": "ipython3",
   "version": "3.10.0"
  }
 },
 "nbformat": 4,
 "nbformat_minor": 2
}
