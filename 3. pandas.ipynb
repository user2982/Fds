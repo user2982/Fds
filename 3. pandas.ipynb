{
 "cells": [
  {
   "cell_type": "code",
   "execution_count": 9,
   "metadata": {},
   "outputs": [
    {
     "name": "stdout",
     "output_type": "stream",
     "text": [
      "a    10\n",
      "b    20\n",
      "c    30\n",
      "d    40\n",
      "dtype: int64\n",
      "[10 20 30 40]\n",
      "Index(['a', 'b', 'c', 'd'], dtype='object')\n"
     ]
    }
   ],
   "source": [
    "import pandas as pd\n",
    "\n",
    "data = pd.Series([1,6,11,777])\n",
    "data[0]\n",
    "data[1:4]\n",
    "data = pd.Series([10,20,30,40], index=['a','b','c','d'])\n",
    "print(data)\n",
    "print(data.values)\n",
    "print(data.index)"
   ]
  },
  {
   "cell_type": "code",
   "execution_count": 10,
   "metadata": {},
   "outputs": [
    {
     "name": "stdout",
     "output_type": "stream",
     "text": [
      "Akash      991\n",
      "Abishek    992\n",
      "Gokul      993\n",
      "dtype: int64\n"
     ]
    }
   ],
   "source": [
    "students_dict = {'Akash':991, 'Abishek':992, 'Gokul':993}\n",
    "students = pd.Series(students_dict)\n",
    "print(students)"
   ]
  },
  {
   "cell_type": "code",
   "execution_count": 12,
   "metadata": {},
   "outputs": [
    {
     "name": "stdout",
     "output_type": "stream",
     "text": [
      "      Name  Roll No\n",
      "0    Akash        1\n",
      "1  Abishek        2\n",
      "2    Gokul        3\n"
     ]
    }
   ],
   "source": [
    "list1 = [['Akash',1],['Abishek',2],['Gokul',3]]\n",
    "df = pd.DataFrame(list1,columns=['Name','Roll No'])\n",
    "print(df)"
   ]
  }
 ],
 "metadata": {
  "kernelspec": {
   "display_name": "Python 3",
   "language": "python",
   "name": "python3"
  },
  "language_info": {
   "codemirror_mode": {
    "name": "ipython",
    "version": 3
   },
   "file_extension": ".py",
   "mimetype": "text/x-python",
   "name": "python",
   "nbconvert_exporter": "python",
   "pygments_lexer": "ipython3",
   "version": "3.12.4"
  }
 },
 "nbformat": 4,
 "nbformat_minor": 2
}
